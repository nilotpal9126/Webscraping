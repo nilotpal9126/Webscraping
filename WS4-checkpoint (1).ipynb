{
 "cells": [
  {
   "cell_type": "code",
   "execution_count": 2,
   "id": "08e82479",
   "metadata": {},
   "outputs": [],
   "source": [
    "import selenium\n",
    "import pandas as pd\n",
    "from selenium import webdriver\n",
    "import time\n",
    "from selenium.common.exceptions import NoSuchElementException,StaleElementReferenceException\n",
    "from bs4 import BeautifulSoup\n",
    "import requests"
   ]
  },
  {
   "cell_type": "markdown",
   "id": "b7b1e135",
   "metadata": {},
   "source": [
    "1. Scrape the details of most viewed videos on YouTube from Wikipedia:\n",
    "Url = https://en.wikipedia.org/wiki/List_of_most-viewed_YouTube_videos\n",
    "You need to find following details:\n",
    "A) Rank\n",
    "B) Name\n",
    "C) Artist\n",
    "D) Upload date\n",
    "E) Views"
   ]
  },
  {
   "cell_type": "code",
   "execution_count": null,
   "id": "248273b3",
   "metadata": {},
   "outputs": [],
   "source": [
    "#Getting chrome-browser ready\n",
    "driver= webdriver.Chrome(\"chromedriver.exe\")\n",
    "time.sleep(3)\n",
    "\n",
    "#getting to the link\n",
    "url=\"https://en.wikipedia.org/wiki/List_of_most-viewed_YouTube_videos\"\n",
    "driver.get(url)"
   ]
  },
  {
   "cell_type": "code",
   "execution_count": null,
   "id": "a00846c7",
   "metadata": {},
   "outputs": [],
   "source": [
    "#getting to the table in page\n",
    "time.sleep(2)\n",
    "driver.execute_script('scrollBy(0, 2500)')"
   ]
  },
  {
   "cell_type": "code",
   "execution_count": null,
   "id": "6c3474f4",
   "metadata": {},
   "outputs": [],
   "source": [
    "try:\n",
    "    table=driver.find_elements_by_xpath('//*[@id=\"mw-content-text\"]/div[1]/table[3]/tbody/tr')\n",
    "    for i in table:\n",
    "        Table.append(i.text)\n",
    "except NoSuchElementException:\n",
    "    Table.append('-')"
   ]
  },
  {
   "cell_type": "code",
   "execution_count": null,
   "id": "e1f02f35",
   "metadata": {},
   "outputs": [],
   "source": [
    "#making df that contains all the information\n",
    "df=pd.DataFrame()\n",
    "df['Table']=Table\n",
    "df"
   ]
  },
  {
   "cell_type": "markdown",
   "id": "539abc9f",
   "metadata": {},
   "source": [
    "2. Scrape the details team India’s international fixtures from bcci.tv.\n",
    "Url = https://www.bcci.tv/.\n",
    "You need to find following details:\n",
    "A) Match title (I.e. 1st ODI)\n",
    "B) Series\n",
    "C) Place\n",
    "D) Date\n",
    "E) Time\n",
    "Note: - From bcci.tv home page you have reach to the international fixture page through code."
   ]
  },
  {
   "cell_type": "code",
   "execution_count": null,
   "id": "ae705ec8",
   "metadata": {},
   "outputs": [],
   "source": [
    "Url = 'https://www.bcci.tv/.'\n",
    "driver= webdriver.Chrome(\"chromedriver.exe\")\n",
    "driver.get(Url)\n",
    "driver.find_element_by_xpath('/html/body/div[3]/div/div[2]/div[2]/nav/ul/li[1]/div[2]').click()#selecting international tab \n",
    "driver.find_element_by_xpath('/html/body/div[3]/div/div[2]/div[2]/nav/ul/li[1]/div[2]/div/ul/li[1]/a').click()# selecting fixtures"
   ]
  },
  {
   "cell_type": "code",
   "execution_count": null,
   "id": "75024b26",
   "metadata": {},
   "outputs": [],
   "source": [
    "URLS=[]\n",
    "urls=driver.find_elements_by_xpath('/html/body/div[4]/div/div/div[2]/section/div/div/a')\n",
    "for i in urls:\n",
    "    URLS.append(i.get_attribute(\"href\"))\n",
    "URLS"
   ]
  },
  {
   "cell_type": "code",
   "execution_count": null,
   "id": "2cba7e13",
   "metadata": {},
   "outputs": [],
   "source": [
    "Match_title=[]\n",
    "Place=[]\n",
    "Series=[]\n",
    "for u in URLS:\n",
    "    driver.get(u)\n",
    "    match=driver.find_elements_by_xpath('/html/body/div[2]/div/header/div/div/div/p/span')\n",
    "    try:\n",
    "        for i in match:\n",
    "            Match_title.append(i.text)\n",
    "    except NoSuchElementException:\n",
    "        Match_title.append('-')\n",
    "    \n",
    "    try:\n",
    "        place=driver.find_elements_by_xpath('//*[@id=\"scorecard\"]/section[3]/div/ul/li/span[2]')\n",
    "        for i in place:\n",
    "            Place.append(i.text)\n",
    "    except NoSuchElementException:\n",
    "        Place.append('-')\n",
    "        \n",
    "    try:\n",
    "        series=driver.find_elements_by_xpath('//*[@id=\"scorecard\"]/section[3]/div/ul/li/span')\n",
    "        for i in series:\n",
    "            Series.append(i.text)\n",
    "    except NoSuchElementException:\n",
    "        Series.append('-')"
   ]
  },
  {
   "cell_type": "code",
   "execution_count": null,
   "id": "e742cd2b",
   "metadata": {},
   "outputs": [],
   "source": [
    "for u in URLS:\n",
    "    driver.get(u)\n",
    "    try:\n",
    "        place=driver.find_elements_by_xpath('/html/body/div[2]/div/header/div/div[1]/div/h1/text()')\n",
    "        for i in place:\n",
    "            Place.append(i.text)\n",
    "    except NoSuchElementException:\n",
    "        Place.append('-')\n",
    "Place        "
   ]
  },
  {
   "cell_type": "code",
   "execution_count": null,
   "id": "50639702",
   "metadata": {},
   "outputs": [],
   "source": [
    "print(Match_title)\n",
    "print(Place)\n",
    "print(Series)"
   ]
  },
  {
   "cell_type": "code",
   "execution_count": null,
   "id": "5e478013",
   "metadata": {},
   "outputs": [],
   "source": [
    "cricket=pd.DataFrame()\n",
    "cricket['match_title']  =Match_title[0:10]\n",
    "cricket['PLACE']  = Place[0:10]\n",
    "cricket['Series']  = Series[0:10]\n",
    "cricket"
   ]
  },
  {
   "cell_type": "markdown",
   "id": "a5d445af",
   "metadata": {},
   "source": [
    "3. Scrape the details of selenium exception from guru99.com.\n",
    "Url = https://www.guru99.com/\n",
    "You need to find following details:\n",
    "A) Name\n",
    "B) Description\n",
    "Note: - From guru99 home page you have to reach to selenium exception handling page through code."
   ]
  },
  {
   "cell_type": "code",
   "execution_count": null,
   "id": "48593ff0",
   "metadata": {},
   "outputs": [],
   "source": [
    "Url = 'https://www.guru99.com/'#getting to the page using webdriver\n",
    "driver= webdriver.Chrome(\"chromedriver.exe\")\n",
    "driver.get(Url)"
   ]
  },
  {
   "cell_type": "code",
   "execution_count": null,
   "id": "76aac1ad",
   "metadata": {},
   "outputs": [],
   "source": [
    "time.sleep(2)\n",
    "driver.execute_script('scrollBy(0, 500)')#scrolling down\n",
    "guru =driver.find_element_by_xpath('/html/body/div[2]/section[4]/div/div/div/div/div/div/div/div[1]/div/ul[1]/li[3]/a')\n",
    "guru.click()#selectinf selenium"
   ]
  },
  {
   "cell_type": "code",
   "execution_count": null,
   "id": "6908d43c",
   "metadata": {},
   "outputs": [],
   "source": [
    "time.sleep(2)\n",
    "driver.execute_script('scrollBy(0, 4700)')\n",
    "exception=driver.find_element_by_xpath('/html/body/div[2]/section[3]/div/div[1]/main/div/div/div/div/div/div/div[2]/table[5]/tbody/tr[34]/td[1]/a')\n",
    "exception.click()#selecting exceptions"
   ]
  },
  {
   "cell_type": "code",
   "execution_count": null,
   "id": "8172ca20",
   "metadata": {},
   "outputs": [],
   "source": [
    "time.sleep(2)\n",
    "driver.execute_script('scrollBy(0, 500)')"
   ]
  },
  {
   "cell_type": "code",
   "execution_count": null,
   "id": "17456026",
   "metadata": {},
   "outputs": [],
   "source": [
    "name=[]\n",
    "table=driver.find_elements_by_xpath('//*[@id=\"g-mainbar\"]/div/div/div/div/div/div/div[2]/table/tbody/tr/td')\n",
    "for i in table:\n",
    "    name.append(i.text)\n",
    "name    "
   ]
  },
  {
   "cell_type": "code",
   "execution_count": null,
   "id": "e20e1226",
   "metadata": {},
   "outputs": [],
   "source": [
    "#making df that contains all the information\n",
    "df=pd.DataFrame()\n",
    "df['LIST']=name\n",
    "df"
   ]
  },
  {
   "cell_type": "code",
   "execution_count": null,
   "id": "1b85c7dd",
   "metadata": {},
   "outputs": [],
   "source": [
    "#seperating the df based on index(even rows)\n",
    "df1=df.iloc[::2]\n",
    "df1"
   ]
  },
  {
   "cell_type": "code",
   "execution_count": null,
   "id": "3b5882e0",
   "metadata": {},
   "outputs": [],
   "source": [
    "df2=df.iloc[lambda x: x.index % 2 == 1] #seperating the df based on index(odd rows)\n",
    "df2"
   ]
  },
  {
   "cell_type": "code",
   "execution_count": null,
   "id": "3790767a",
   "metadata": {},
   "outputs": [],
   "source": [
    "#merging the two dfs into df_final\n",
    "df_final=pd.concat([df1,df2], axis=1)\n",
    "df_final"
   ]
  },
  {
   "cell_type": "markdown",
   "id": "b35a7ab4",
   "metadata": {},
   "source": [
    "7. Scrape the details of Data science recruiters from naukri.com.\n",
    "Url = https://www.naukri.com/\n",
    "You have to find the following details:\n",
    "A) Name\n",
    "B) Designation\n",
    "C) Company\n",
    "D) Skills they hire for\n",
    "E) Location\n",
    "Note: - From naukri.com homepage click on the recruiters option and the on the search pane type Data science and \n",
    "click on search. All this should be done through code"
   ]
  },
  {
   "cell_type": "code",
   "execution_count": 33,
   "id": "b3d2cf76",
   "metadata": {},
   "outputs": [],
   "source": [
    "#Getting chrome-browser ready\n",
    "driver= webdriver.Chrome(\"chromedriver.exe\")\n",
    "time.sleep(2)\n",
    "\n",
    "#getting to the page\n",
    "url=\"https://www.naukri.com/\"\n",
    "driver.get(url)"
   ]
  },
  {
   "cell_type": "code",
   "execution_count": 35,
   "id": "5021f8a5",
   "metadata": {},
   "outputs": [],
   "source": [
    "time.sleep(4)\n",
    "driver.find_element_by_xpath('/html/body/div[3]/span[1]').click()#blocking the pop up\n",
    "time.sleep(2)\n",
    "\n"
   ]
  },
  {
   "cell_type": "code",
   "execution_count": 45,
   "id": "5c1d23f2",
   "metadata": {},
   "outputs": [],
   "source": [
    "rec=driver.find_element_by_xpath('//*[@id=\"root\"]/div[1]/div/ul[1]/li[2]/a/div').click()#selecting recruiters\n",
    "time.sleep(1)\n"
   ]
  },
  {
   "cell_type": "code",
   "execution_count": 44,
   "id": "169b87a6",
   "metadata": {},
   "outputs": [],
   "source": [
    "rect = driver.find_elements_by_xpath('//a[@title=\"Search Recruiters\"]')\n",
    "R=[]\n",
    "for r in rect:\n",
    "    R.append(r.get_attribute(\"href\"))\n",
    "for i in R:\n",
    "    driver.get(i)\n",
    "    srch=driver.find_element_by_xpath('/html/body/div[2]/div[2]/div[1]/div[1]/form/div[1]/div/div[1]/div[1]/div[2]/input')\n",
    "    srch.send_keys('Data Science')\n",
    "    driver.find_element_by_xpath('/html/body/div[2]/div[2]/div[1]/div[1]/form/div[1]/button').click()\n",
    "    name=[]\n",
    "    nm=driver.find_elements_by_xpath('//*[@id=\"tabP-1\"]/div/div/div/div/p/a/span')\n",
    "    for i in nm:\n",
    "        name.append(i.text)\n",
    "        print(name)\n",
    "    dsng=driver.find_elements_by_xpath('//*[@id=\"tabP-1\"]/div/div[1]/div/div/p/span[1]')\n",
    "    Designation=[]\n",
    "    try:\n",
    "        for i in dsng:\n",
    "            Designation.append(i.text)\n",
    "    except NoSuchElementException:\n",
    "        Designation.append('-')\n",
    "        print(Designation) \n",
    "    loc=driver.find_elements_by_xpath('//*[@id=\"tabP-1\"]/div/div/div/div/p/span[2]/small')\n",
    "    Loc=[]\n",
    "    for l in loc:\n",
    "        Loc.append(l.text)\n",
    "        print(Loc)\n",
    "    comp=driver.find_elements_by_xpath('//*[@id=\"tabP-1\"]/div[1]/div[1]/div/div/p/a/i')    \n",
    "    Comp=[]\n",
    "    for i in comp:\n",
    "        Comp.append(i.text)\n",
    "        print(Comp)\n",
    "    sk=driver.find_elements_by_xpath('//*[@id=\"tabP-1\"]/div[1]/div/div/div[2]')\n",
    "    SK=[]\n",
    "    for i in sk:\n",
    "        SK.append(i.text)\n",
    "        print(SK)"
   ]
  },
  {
   "cell_type": "code",
   "execution_count": null,
   "id": "1b8b98dd",
   "metadata": {},
   "outputs": [],
   "source": [
    "Job=pd.DataFrame()\n",
    "Job['Name']=name[0:4]\n",
    "Job['Designation']=Designation[0:4]\n",
    "Job['Location']=Loc[0:4]\n",
    "Job['Skills']=SK[0:4]\n",
    "Job['Company']=Comp[0:4]\n",
    "Job"
   ]
  },
  {
   "cell_type": "code",
   "execution_count": null,
   "id": "6485b13a",
   "metadata": {},
   "outputs": [],
   "source": []
  },
  {
   "cell_type": "markdown",
   "id": "fa0f364a",
   "metadata": {},
   "source": [
    "4. Scrape the details of State-wise GDP of India from statisticstime.com.\n",
    "Url = http://statisticstimes.com/\n",
    "You have to find following details:\n",
    "A) Rank\n",
    "B) State\n",
    "C) GSDP at current price (19-20)\n",
    "D) GSDP at current price (18-19)\n",
    "E) Share(18-19)\n",
    "F) GDP($ billion)\n",
    "Note: - From statisticstimes home page you have to reach to economy page through code."
   ]
  },
  {
   "cell_type": "code",
   "execution_count": null,
   "id": "7ab05232",
   "metadata": {},
   "outputs": [],
   "source": [
    "#Getting chrome-browser ready\n",
    "Url = 'http://statisticstimes.com/'\n",
    "driver= webdriver.Chrome(\"chromedriver.exe\")\n",
    "time.sleep(1)\n",
    "driver.get(Url)#accesing the website via webdriver"
   ]
  },
  {
   "cell_type": "code",
   "execution_count": null,
   "id": "46f0a70d",
   "metadata": {},
   "outputs": [],
   "source": [
    "eco_btn=driver.find_element_by_xpath('//*[@id=\"top\"]/div[2]/div[2]/button').click()#clicking the economic button\n",
    "select_ind=driver.find_element_by_xpath('/html/body/div[2]/div[1]/div[2]/div[2]/div/a[3]').click()#selecting india "
   ]
  },
  {
   "cell_type": "code",
   "execution_count": null,
   "id": "fe1a3f09",
   "metadata": {},
   "outputs": [],
   "source": [
    "gdp=driver.find_element_by_xpath('/html/body/div[2]/div[2]/div[2]/ul/li[1]/a').click()#selecting gdp"
   ]
  },
  {
   "cell_type": "code",
   "execution_count": null,
   "id": "a7431b6e",
   "metadata": {},
   "outputs": [],
   "source": [
    "popup=driver.find_element_by_xpath('/html/body/div[8]/vli/vli/vli').click()#getting rid of the pou -up"
   ]
  },
  {
   "cell_type": "code",
   "execution_count": null,
   "id": "f1d3d048",
   "metadata": {},
   "outputs": [],
   "source": [
    "popup_2=driver.find_element_by_xpath('/html/body/div[2]/vli/vli[1]').click()#getting rid of the pou -up"
   ]
  },
  {
   "cell_type": "code",
   "execution_count": null,
   "id": "6b7c9ad7",
   "metadata": {},
   "outputs": [],
   "source": [
    "rows=1+len(driver.find_elements_by_xpath('//*[@id=\"table_id\"]/tbody/tr'))\n",
    "cols=len(driver.find_elements_by_xpath('//*[@id=\"table_id\"]/tbody/tr[1]/td'))\n",
    "print(rows)\n",
    "print(cols)"
   ]
  },
  {
   "cell_type": "code",
   "execution_count": null,
   "id": "cb80ffab",
   "metadata": {},
   "outputs": [],
   "source": [
    "CH=[]\n",
    "chck=driver.find_elements_by_xpath('//*[@id=\"table_id\"]/tbody')\n",
    "for i in chck: \n",
    "    CH.append(i.text )\n",
    "CH#contains all the data from the table"
   ]
  },
  {
   "cell_type": "code",
   "execution_count": null,
   "id": "f0a9ed52",
   "metadata": {},
   "outputs": [],
   "source": [
    " "
   ]
  },
  {
   "cell_type": "markdown",
   "id": "ddd60142",
   "metadata": {},
   "source": [
    "5. Scrape the details of trending repositories on Github.com.\n",
    "Url = https://github.com/\n",
    "You have to find the following details:\n",
    "A) Repository title\n",
    "B) Repository description\n",
    "C) Contributors count\n",
    "D) Language used"
   ]
  },
  {
   "cell_type": "code",
   "execution_count": null,
   "id": "b8b695a2",
   "metadata": {},
   "outputs": [],
   "source": [
    "driver=webdriver.Chrome(\"chromedriver.exe\")#accesing the website via webdriver\n",
    "Url = 'https://github.com/'\n",
    "driver.get(Url)\n",
    "time.sleep(2)"
   ]
  },
  {
   "cell_type": "code",
   "execution_count": null,
   "id": "b1f3009e",
   "metadata": {},
   "outputs": [],
   "source": [
    "explore=driver.find_element_by_xpath('/html/body/div[1]/header/div/div[2]/nav/ul/li[4]/details/summary').click()\n",
    "trending=driver.find_element_by_xpath('/html/body/div[1]/header/div/div[2]/nav/ul/li[4]/details/div/ul[2]/li[3]/a').click()"
   ]
  },
  {
   "cell_type": "code",
   "execution_count": null,
   "id": "098e23e8",
   "metadata": {},
   "outputs": [],
   "source": [
    "RT=[]\n",
    "rep=driver.find_elements_by_xpath('//span[@class=\"text-normal\"]')\n",
    "for i in rep:\n",
    "    RT.append(i.text)\n",
    "RT    "
   ]
  },
  {
   "cell_type": "code",
   "execution_count": null,
   "id": "9753be75",
   "metadata": {},
   "outputs": [],
   "source": [
    "RD=[]\n",
    "try:\n",
    "    rep_d=driver.find_elements_by_xpath('//p[@class=\"col-9 color-text-secondary my-1 pr-4\"]')\n",
    "    for i in rep_d:\n",
    "        RD.append(i.text)\n",
    "except NoSuchElementException:\n",
    "    RD.append('-')\n",
    "RD    "
   ]
  },
  {
   "cell_type": "code",
   "execution_count": null,
   "id": "accb9390",
   "metadata": {},
   "outputs": [],
   "source": [
    "print(len(RT),len(RD))"
   ]
  },
  {
   "cell_type": "code",
   "execution_count": null,
   "id": "5ff85103",
   "metadata": {},
   "outputs": [],
   "source": [
    "LU=[]\n",
    "lu=driver.find_elements_by_xpath('//*[@id=\"js-pjax-container\"]/div[3]/div/div[2]/article[1]/div[2]/span/span')\n",
    "for i in lu:\n",
    "    LU.append(i.text)\n",
    "LU    "
   ]
  },
  {
   "cell_type": "code",
   "execution_count": null,
   "id": "53b4e153",
   "metadata": {},
   "outputs": [],
   "source": [
    "URLS=[]\n",
    "Language=[]\n",
    "urls=driver.find_elements_by_xpath('//*[@id=\"js-pjax-container\"]/div[3]/div/div[2]/article/h1/a')\n",
    "for i in urls:\n",
    "    URLS.append(i.get_attribute(\"href\"))\n",
    "    driver.get\n",
    "    languages=driver.find_elements_by_xpath('//*[@id=\"repo-content-pjax-container\"]/div/div[2]/div[2]/div/div[6]/div/ul/li/a/span')\n",
    "    for i in languages:\n",
    "        Language.append(i.text)\n",
    "        "
   ]
  },
  {
   "cell_type": "code",
   "execution_count": null,
   "id": "487e99ce",
   "metadata": {},
   "outputs": [],
   "source": [
    "Language"
   ]
  },
  {
   "cell_type": "markdown",
   "id": "cbe807ff",
   "metadata": {},
   "source": [
    "8. Scrape the details of Highest selling novels.\n",
    "Url = https://www.theguardian.com/news/datablog/2012/aug/09/best-selling-books-all-time-fifty-shades-grey-compare/\n",
    "You have to find the following details:\n",
    "A) Book name\n",
    "B) Author name\n",
    "C) Volumes sold\n",
    "D) Publisher\n",
    "E) Genre"
   ]
  },
  {
   "cell_type": "code",
   "execution_count": null,
   "id": "30cfcb32",
   "metadata": {},
   "outputs": [],
   "source": []
  },
  {
   "cell_type": "code",
   "execution_count": null,
   "id": "393ca5b6",
   "metadata": {},
   "outputs": [],
   "source": [
    "driver=webdriver.Chrome(\"chromedriver.exe\")#accesing the website via webdriver\n",
    "Url = 'https://www.theguardian.com/news/datablog/2012/aug/09/best-selling-books-all-time-fifty-shades-grey-compare/'\n",
    "driver.get(Url)\n",
    "time.sleep(2)\n"
   ]
  },
  {
   "cell_type": "code",
   "execution_count": null,
   "id": "1bb22a79",
   "metadata": {},
   "outputs": [],
   "source": [
    "R=[]\n",
    "row=driver.find_elements_by_xpath('//*[@id=\"article-body-blocks\"]/div/table/tbody/tr')\n",
    "for r in row:\n",
    "    R.append(r.text)\n",
    "R    "
   ]
  },
  {
   "cell_type": "code",
   "execution_count": null,
   "id": "88fc56a2",
   "metadata": {},
   "outputs": [],
   "source": [
    "C=[]\n",
    "cols=driver.find_elements_by_xpath('//td[@class=\"left\"]')\n",
    "for i in cols:\n",
    "    C.append(i.text)\n",
    "C    "
   ]
  },
  {
   "cell_type": "code",
   "execution_count": null,
   "id": "4a30ff9b",
   "metadata": {},
   "outputs": [],
   "source": [
    "df=pd.DataFrame()\n",
    "df['Table']=R\n",
    "df"
   ]
  },
  {
   "cell_type": "markdown",
   "id": "eb9ce00f",
   "metadata": {},
   "source": [
    "9. Scrape the details most watched tv series of all time from imdb.com.\n",
    "Url = https://www.imdb.com/list/ls095964455/\n",
    "You have to find the following details:\n",
    "A) Name\n",
    "B) Year span\n",
    "C) Genre\n",
    "D) Run time\n",
    "E) Ratings\n",
    "F) Votes"
   ]
  },
  {
   "cell_type": "code",
   "execution_count": null,
   "id": "96257823",
   "metadata": {},
   "outputs": [],
   "source": [
    "driver=webdriver.Chrome(\"chromedriver.exe\")\n",
    "Url = 'https://www.imdb.com/list/ls095964455/'\n",
    "driver.get(Url)\n",
    "time.sleep(2)"
   ]
  },
  {
   "cell_type": "code",
   "execution_count": null,
   "id": "c6925e4c",
   "metadata": {},
   "outputs": [],
   "source": [
    "name=[]\n",
    "nm=driver.find_elements_by_xpath('//*[@id=\"main\"]/div/div[3]/div[3]/div/div/h3/a')\n",
    "for i in nm:\n",
    "    name.append(i.text)\n",
    "name    "
   ]
  },
  {
   "cell_type": "code",
   "execution_count": null,
   "id": "7159b905",
   "metadata": {},
   "outputs": [],
   "source": [
    "run=driver.find_elements_by_xpath('//*[@id=\"main\"]/div/div[3]/div[3]/div/div/p/span[3]')\n",
    "Rt=[]\n",
    "for i in run:\n",
    "    Rt.append(i.text)\n",
    "Rt    "
   ]
  },
  {
   "cell_type": "code",
   "execution_count": null,
   "id": "a0d52fd8",
   "metadata": {},
   "outputs": [],
   "source": [
    "rating=driver.find_elements_by_xpath('//*[@id=\"main\"]/div/div[3]/div[3]/div/div/div/div/span')\n",
    "Ratings=[]\n",
    "for i in rating:\n",
    "    Ratings.append(i.text)\n",
    "Ratings    \n"
   ]
  },
  {
   "cell_type": "code",
   "execution_count": null,
   "id": "05520a53",
   "metadata": {},
   "outputs": [],
   "source": [
    "votes=driver.find_elements_by_xpath('//*[@id=\"main\"]/div/div[3]/div[3]/div/div/p/span[2]')\n",
    "Vote=[]\n",
    "for i in votes:\n",
    "    Vote.append(i.text)\n",
    "Vote    "
   ]
  },
  {
   "cell_type": "code",
   "execution_count": null,
   "id": "5b920ec0",
   "metadata": {},
   "outputs": [],
   "source": []
  },
  {
   "cell_type": "code",
   "execution_count": null,
   "id": "74a4d561",
   "metadata": {},
   "outputs": [],
   "source": [
    "G=[]\n",
    "gn=driver.find_elements_by_xpath('//*[@id=\"main\"]/div/div[3]/div[3]/div/div/p/span[5]')\n",
    "for i in gn:\n",
    "    G.append(i.text)\n",
    "G    "
   ]
  },
  {
   "cell_type": "code",
   "execution_count": null,
   "id": "7266f680",
   "metadata": {},
   "outputs": [],
   "source": [
    "ys=driver.find_elements_by_xpath('//*[@id=\"main\"]/div/div[3]/div[3]/div/div/h3/span[2]')\n",
    "Span=[]\n",
    "for i in ys:\n",
    "    Span.append(i.text)\n",
    "Span    "
   ]
  },
  {
   "cell_type": "code",
   "execution_count": null,
   "id": "180f52ba",
   "metadata": {},
   "outputs": [],
   "source": [
    "imdb=pd.DataFrame()\n",
    "imdb['name']=name[0:10]\n",
    "imdb['runtime']=Rt[0:10]\n",
    "imdb['Ratings']=Ratings[0:10]\n",
    "imdb['Vote']=Vote[0:10]\n",
    "imdb['Genre']=G[0:10]\n",
    "imdb['Span-time']=Span[0:10]\n",
    "imdb"
   ]
  },
  {
   "cell_type": "markdown",
   "id": "ae5f9d2d",
   "metadata": {},
   "source": [
    "10. Details of Datasets from UCI machine learning repositories.\n",
    "Url = https://archive.ics.uci.edu/\n",
    "You have to find the following details:\n",
    "A) Dataset name\n",
    "B) Data type\n",
    "C) Task\n",
    "D) Attribute type\n",
    "E) No of instances\n",
    "F) No of attribute\n",
    "G) Year\n",
    "Note: - from the home page you have to go to the Show All Dataset page through code."
   ]
  },
  {
   "cell_type": "code",
   "execution_count": null,
   "id": "4608b4bc",
   "metadata": {},
   "outputs": [],
   "source": [
    "driver=webdriver.Chrome(\"chromedriver.exe\")#accesing the website via webdriver\n",
    "Url = 'https://archive.ics.uci.edu/'\n",
    "driver.get(Url)\n",
    "time.sleep(2)"
   ]
  },
  {
   "cell_type": "code",
   "execution_count": null,
   "id": "d20adac4",
   "metadata": {},
   "outputs": [],
   "source": [
    "#getting to the place with all the dataset\n",
    "ds_page=driver.find_element_by_xpath('/html/body/table[1]/tbody/tr/td[2]/span[2]/a')\n",
    "ds_page.click()\n"
   ]
  },
  {
   "cell_type": "code",
   "execution_count": null,
   "id": "28507a7c",
   "metadata": {},
   "outputs": [],
   "source": [
    "time.sleep(3)\n",
    "urls=[]\n",
    "URL=driver.find_elements_by_xpath('/html/body/table[2]/tbody/tr/td[2]/table[2]/tbody/tr/td/table/tbody/tr/td/p/b/a')\n",
    "for i in URL:\n",
    "    urls.append(i.get_attribute(\"href\"))\n",
    "urls#all the urls contecting to differnt pages"
   ]
  },
  {
   "cell_type": "code",
   "execution_count": null,
   "id": "3b23262c",
   "metadata": {},
   "outputs": [],
   "source": [
    "ds_name=[]\n",
    "for u in urls:\n",
    "    driver.get(u)\n",
    "    ds=driver.find_elements_by_xpath('/html/body/table[2]/tbody/tr/td/table[1]/tbody/tr/td/p/span/b[1]')\n",
    "    for i in ds:\n",
    "        ds_name.append(i.text)\n",
    "        \n",
    "ds_name  #all the nmes of the datasets       "
   ]
  },
  {
   "cell_type": "code",
   "execution_count": null,
   "id": "975bd81f",
   "metadata": {},
   "outputs": [],
   "source": [
    "#Scrapping the entire table using the table -tag\n",
    "T=[]\n",
    "table=driver.find_elements_by_xpath('/html/body/table[2]/tbody/tr/td[2]/table[2]/tbody/tr')\n",
    "for i in row:\n",
    "    T.append(i.text)\n",
    "T   "
   ]
  }
 ],
 "metadata": {
  "kernelspec": {
   "display_name": "Python 3",
   "language": "python",
   "name": "python3"
  },
  "language_info": {
   "codemirror_mode": {
    "name": "ipython",
    "version": 3
   },
   "file_extension": ".py",
   "mimetype": "text/x-python",
   "name": "python",
   "nbconvert_exporter": "python",
   "pygments_lexer": "ipython3",
   "version": "3.8.8"
  }
 },
 "nbformat": 4,
 "nbformat_minor": 5
}
